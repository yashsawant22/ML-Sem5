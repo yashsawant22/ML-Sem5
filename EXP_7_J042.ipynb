{
  "nbformat": 4,
  "nbformat_minor": 0,
  "metadata": {
    "colab": {
      "name": "EXP 7 J067 ",
      "provenance": [],
      "include_colab_link": true
    },
    "kernelspec": {
      "name": "python3",
      "display_name": "Python 3"
    },
    "accelerator": "GPU"
  },
  "cells": [
    {
      "cell_type": "markdown",
      "metadata": {
        "id": "view-in-github",
        "colab_type": "text"
      },
      "source": [
        "<a href=\"https://colab.research.google.com/github/AARSHGHEWDE/ML/blob/master/EXP_7_J067.ipynb\" target=\"_parent\"><img src=\"https://colab.research.google.com/assets/colab-badge.svg\" alt=\"Open In Colab\"/></a>"
      ]
    },
    {
      "cell_type": "code",
      "metadata": {
        "id": "0fdWjMelP9AO"
      },
      "source": [
        "import pandas as pd\n",
        "import numpy as np\n",
        "from sklearn.datasets import fetch_covtype, fetch_kddcup99, fetch_lfw_pairs, fetch_lfw_people, fetch_olivetti_faces\n",
        "from sklearn.datasets import fetch_rcv1, load_breast_cancer, load_digits, load_wine"
      ],
      "execution_count": null,
      "outputs": []
    },
    {
      "cell_type": "code",
      "metadata": {
        "id": "Zxq_erOGQBrB"
      },
      "source": [
        "from sklearn.model_selection import train_test_split\n",
        "from sklearn.preprocessing import LabelEncoder, StandardScaler\n",
        "from scipy.sparse import csr_matrix\n",
        "import matplotlib.pyplot as plt"
      ],
      "execution_count": null,
      "outputs": []
    },
    {
      "cell_type": "code",
      "metadata": {
        "id": "pM9Z37wpQthB"
      },
      "source": [
        "from keras import models\n",
        "from keras import layers\n",
        "from keras.utils import to_categorical"
      ],
      "execution_count": null,
      "outputs": []
    },
    {
      "cell_type": "markdown",
      "metadata": {
        "id": "50pWUC9EU5zM"
      },
      "source": [
        "# COVTYPE"
      ]
    },
    {
      "cell_type": "code",
      "metadata": {
        "id": "XkTeRfA9Qw5S"
      },
      "source": [
        "forest = fetch_covtype()\n",
        "x = forest.data\n",
        "y = forest.target"
      ],
      "execution_count": null,
      "outputs": []
    },
    {
      "cell_type": "code",
      "metadata": {
        "id": "eFjbvqaDQ8_x",
        "outputId": "cbee8111-b44b-4a1b-9ed2-c9fecf6047a0",
        "colab": {
          "base_uri": "https://localhost:8080/",
          "height": 50
        }
      },
      "source": [
        "x = pd.DataFrame(x)\n",
        "y = pd.DataFrame(y)\n",
        "print(x.shape)\n",
        "print(y.shape)"
      ],
      "execution_count": null,
      "outputs": [
        {
          "output_type": "stream",
          "text": [
            "(581012, 54)\n",
            "(581012, 1)\n"
          ],
          "name": "stdout"
        }
      ]
    },
    {
      "cell_type": "code",
      "metadata": {
        "id": "0oJAil7rRvva",
        "outputId": "f8845212-7e21-4ba9-834b-cef3d30e2a8b",
        "colab": {
          "base_uri": "https://localhost:8080/",
          "height": 118
        }
      },
      "source": [
        "y1 = y.replace([1,2,3,4,5,6,7], [0,1,2,3,4,5,6])\n",
        "y1 = to_categorical(y1)\n",
        "x_train, x_test, y_train, y_test = train_test_split(x, y1, test_size = 0.2)\n",
        "x_dev, x_test, y_dev, y_test = train_test_split(x_test, y_test, test_size = 0.5)\n",
        "print(x_train.shape)\n",
        "print(x_dev.shape)\n",
        "print(x_test.shape)\n",
        "print(y_train.shape)\n",
        "print(y_dev.shape)\n",
        "print(y_test.shape)"
      ],
      "execution_count": null,
      "outputs": [
        {
          "output_type": "stream",
          "text": [
            "(464809, 54)\n",
            "(58101, 54)\n",
            "(58102, 54)\n",
            "(464809, 7)\n",
            "(58101, 7)\n",
            "(58102, 7)\n"
          ],
          "name": "stdout"
        }
      ]
    },
    {
      "cell_type": "code",
      "metadata": {
        "id": "wKbtogtuSC_A"
      },
      "source": [
        "nn = models.Sequential()\n",
        "nn.add(layers.Dense(1024, activation = 'relu', input_shape = (54, )))\n",
        "nn.add(layers.Dense(512, activation = 'relu'))\n",
        "nn.add(layers.Dense(256, activation = 'relu'))\n",
        "nn.add(layers.Dense(128, activation = 'relu'))\n",
        "nn.add(layers.Dense(54, activation = 'relu'))\n",
        "nn.add(layers.Dense(7, activation = 'softmax'))\n",
        "nn.compile(optimizer = 'adam', loss = 'categorical_crossentropy', metrics = ['accuracy'])"
      ],
      "execution_count": null,
      "outputs": []
    },
    {
      "cell_type": "code",
      "metadata": {
        "id": "MRVjeJQkSVyz",
        "outputId": "632ae63e-1fed-4174-9d19-e538f3f31306",
        "colab": {
          "base_uri": "https://localhost:8080/",
          "height": 1000
        }
      },
      "source": [
        "history = nn.fit(x_train, y_train, epochs = 100, batch_size = 5000, validation_data = (x_dev, y_dev))"
      ],
      "execution_count": null,
      "outputs": [
        {
          "output_type": "stream",
          "text": [
            "Epoch 1/100\n",
            "93/93 [==============================] - 1s 13ms/step - loss: 18.5878 - accuracy: 0.4069 - val_loss: 2.5094 - val_accuracy: 0.5183\n",
            "Epoch 2/100\n",
            "93/93 [==============================] - 1s 9ms/step - loss: 1.8456 - accuracy: 0.4616 - val_loss: 1.2303 - val_accuracy: 0.5119\n",
            "Epoch 3/100\n",
            "93/93 [==============================] - 1s 9ms/step - loss: 1.0084 - accuracy: 0.5550 - val_loss: 0.9582 - val_accuracy: 0.5712\n",
            "Epoch 4/100\n",
            "93/93 [==============================] - 1s 9ms/step - loss: 0.9634 - accuracy: 0.5819 - val_loss: 0.8712 - val_accuracy: 0.6066\n",
            "Epoch 5/100\n",
            "93/93 [==============================] - 1s 9ms/step - loss: 0.8473 - accuracy: 0.6229 - val_loss: 0.8774 - val_accuracy: 0.6058\n",
            "Epoch 6/100\n",
            "93/93 [==============================] - 1s 9ms/step - loss: 0.7912 - accuracy: 0.6482 - val_loss: 0.8228 - val_accuracy: 0.6245\n",
            "Epoch 7/100\n",
            "93/93 [==============================] - 1s 9ms/step - loss: 0.7307 - accuracy: 0.6737 - val_loss: 0.6585 - val_accuracy: 0.7170\n",
            "Epoch 8/100\n",
            "93/93 [==============================] - 1s 9ms/step - loss: 0.7155 - accuracy: 0.6781 - val_loss: 0.7868 - val_accuracy: 0.6258\n",
            "Epoch 9/100\n",
            "93/93 [==============================] - 1s 9ms/step - loss: 0.6833 - accuracy: 0.6952 - val_loss: 0.6206 - val_accuracy: 0.7303\n",
            "Epoch 10/100\n",
            "93/93 [==============================] - 1s 9ms/step - loss: 0.6500 - accuracy: 0.7121 - val_loss: 0.6154 - val_accuracy: 0.7338\n",
            "Epoch 11/100\n",
            "93/93 [==============================] - 1s 9ms/step - loss: 0.6365 - accuracy: 0.7192 - val_loss: 0.6095 - val_accuracy: 0.7392\n",
            "Epoch 12/100\n",
            "93/93 [==============================] - 1s 9ms/step - loss: 0.6300 - accuracy: 0.7218 - val_loss: 0.5829 - val_accuracy: 0.7493\n",
            "Epoch 13/100\n",
            "93/93 [==============================] - 1s 9ms/step - loss: 0.6103 - accuracy: 0.7328 - val_loss: 0.5824 - val_accuracy: 0.7456\n",
            "Epoch 14/100\n",
            "93/93 [==============================] - 1s 9ms/step - loss: 0.6759 - accuracy: 0.7226 - val_loss: 0.7152 - val_accuracy: 0.6927\n",
            "Epoch 15/100\n",
            "93/93 [==============================] - 1s 9ms/step - loss: 0.6153 - accuracy: 0.7333 - val_loss: 0.6012 - val_accuracy: 0.7340\n",
            "Epoch 16/100\n",
            "93/93 [==============================] - 1s 9ms/step - loss: 0.5789 - accuracy: 0.7494 - val_loss: 0.5653 - val_accuracy: 0.7620\n",
            "Epoch 17/100\n",
            "93/93 [==============================] - 1s 9ms/step - loss: 0.5821 - accuracy: 0.7464 - val_loss: 0.5529 - val_accuracy: 0.7675\n",
            "Epoch 18/100\n",
            "93/93 [==============================] - 1s 10ms/step - loss: 0.5688 - accuracy: 0.7528 - val_loss: 0.5464 - val_accuracy: 0.7667\n",
            "Epoch 19/100\n",
            "93/93 [==============================] - 1s 9ms/step - loss: 0.5511 - accuracy: 0.7625 - val_loss: 0.6098 - val_accuracy: 0.7177\n",
            "Epoch 20/100\n",
            "93/93 [==============================] - 1s 9ms/step - loss: 0.5877 - accuracy: 0.7438 - val_loss: 0.5249 - val_accuracy: 0.7782\n",
            "Epoch 21/100\n",
            "93/93 [==============================] - 1s 9ms/step - loss: 0.5392 - accuracy: 0.7684 - val_loss: 0.5330 - val_accuracy: 0.7767\n",
            "Epoch 22/100\n",
            "93/93 [==============================] - 1s 9ms/step - loss: 0.5543 - accuracy: 0.7606 - val_loss: 0.5188 - val_accuracy: 0.7824\n",
            "Epoch 23/100\n",
            "93/93 [==============================] - 1s 9ms/step - loss: 0.5424 - accuracy: 0.7650 - val_loss: 0.5322 - val_accuracy: 0.7729\n",
            "Epoch 24/100\n",
            "93/93 [==============================] - 1s 9ms/step - loss: 0.5395 - accuracy: 0.7678 - val_loss: 0.5206 - val_accuracy: 0.7793\n",
            "Epoch 25/100\n",
            "93/93 [==============================] - 1s 9ms/step - loss: 0.5205 - accuracy: 0.7767 - val_loss: 0.5399 - val_accuracy: 0.7614\n",
            "Epoch 26/100\n",
            "93/93 [==============================] - 1s 9ms/step - loss: 0.5251 - accuracy: 0.7742 - val_loss: 0.5410 - val_accuracy: 0.7591\n",
            "Epoch 27/100\n",
            "93/93 [==============================] - 1s 9ms/step - loss: 0.5207 - accuracy: 0.7757 - val_loss: 0.5473 - val_accuracy: 0.7675\n",
            "Epoch 28/100\n",
            "93/93 [==============================] - 1s 10ms/step - loss: 0.5144 - accuracy: 0.7788 - val_loss: 0.4982 - val_accuracy: 0.7912\n",
            "Epoch 29/100\n",
            "93/93 [==============================] - 1s 9ms/step - loss: 0.5260 - accuracy: 0.7740 - val_loss: 0.4995 - val_accuracy: 0.7870\n",
            "Epoch 30/100\n",
            "93/93 [==============================] - 1s 9ms/step - loss: 0.5045 - accuracy: 0.7825 - val_loss: 0.4863 - val_accuracy: 0.7951\n",
            "Epoch 31/100\n",
            "93/93 [==============================] - 1s 9ms/step - loss: 0.4911 - accuracy: 0.7902 - val_loss: 0.5167 - val_accuracy: 0.7796\n",
            "Epoch 32/100\n",
            "93/93 [==============================] - 1s 9ms/step - loss: 0.5171 - accuracy: 0.7789 - val_loss: 0.5165 - val_accuracy: 0.7708\n",
            "Epoch 33/100\n",
            "93/93 [==============================] - 1s 9ms/step - loss: 0.7959 - accuracy: 0.7060 - val_loss: 0.6257 - val_accuracy: 0.7353\n",
            "Epoch 34/100\n",
            "93/93 [==============================] - 1s 9ms/step - loss: 0.5540 - accuracy: 0.7673 - val_loss: 0.5411 - val_accuracy: 0.7680\n",
            "Epoch 35/100\n",
            "93/93 [==============================] - 1s 9ms/step - loss: 0.5157 - accuracy: 0.7817 - val_loss: 0.4981 - val_accuracy: 0.7907\n",
            "Epoch 36/100\n",
            "93/93 [==============================] - 1s 9ms/step - loss: 0.5031 - accuracy: 0.7859 - val_loss: 0.4868 - val_accuracy: 0.7945\n",
            "Epoch 37/100\n",
            "93/93 [==============================] - 1s 9ms/step - loss: 0.4974 - accuracy: 0.7874 - val_loss: 0.4761 - val_accuracy: 0.8011\n",
            "Epoch 38/100\n",
            "93/93 [==============================] - 1s 9ms/step - loss: 0.5271 - accuracy: 0.7737 - val_loss: 0.5564 - val_accuracy: 0.7482\n",
            "Epoch 39/100\n",
            "93/93 [==============================] - 1s 9ms/step - loss: 0.4802 - accuracy: 0.7953 - val_loss: 0.5666 - val_accuracy: 0.7484\n",
            "Epoch 40/100\n",
            "93/93 [==============================] - 1s 9ms/step - loss: 0.4819 - accuracy: 0.7943 - val_loss: 0.4650 - val_accuracy: 0.8023\n",
            "Epoch 41/100\n",
            "93/93 [==============================] - 1s 9ms/step - loss: 0.4680 - accuracy: 0.8003 - val_loss: 0.4577 - val_accuracy: 0.8069\n",
            "Epoch 42/100\n",
            "93/93 [==============================] - 1s 9ms/step - loss: 0.4728 - accuracy: 0.7973 - val_loss: 0.4736 - val_accuracy: 0.7981\n",
            "Epoch 43/100\n",
            "93/93 [==============================] - 1s 9ms/step - loss: 0.4637 - accuracy: 0.8016 - val_loss: 0.5027 - val_accuracy: 0.7753\n",
            "Epoch 44/100\n",
            "93/93 [==============================] - 1s 9ms/step - loss: 0.4698 - accuracy: 0.7978 - val_loss: 0.4525 - val_accuracy: 0.8086\n",
            "Epoch 45/100\n",
            "93/93 [==============================] - 1s 9ms/step - loss: 0.4646 - accuracy: 0.8017 - val_loss: 0.4573 - val_accuracy: 0.8063\n",
            "Epoch 46/100\n",
            "93/93 [==============================] - 1s 9ms/step - loss: 0.4641 - accuracy: 0.8012 - val_loss: 0.4444 - val_accuracy: 0.8130\n",
            "Epoch 47/100\n",
            "93/93 [==============================] - 1s 9ms/step - loss: 0.4447 - accuracy: 0.8107 - val_loss: 0.4508 - val_accuracy: 0.8103\n",
            "Epoch 48/100\n",
            "93/93 [==============================] - 1s 9ms/step - loss: 0.4492 - accuracy: 0.8073 - val_loss: 0.4482 - val_accuracy: 0.8052\n",
            "Epoch 49/100\n",
            "93/93 [==============================] - 1s 9ms/step - loss: 0.4401 - accuracy: 0.8122 - val_loss: 0.4300 - val_accuracy: 0.8162\n",
            "Epoch 50/100\n",
            "93/93 [==============================] - 1s 9ms/step - loss: 0.4345 - accuracy: 0.8143 - val_loss: 0.4101 - val_accuracy: 0.8256\n",
            "Epoch 51/100\n",
            "93/93 [==============================] - 1s 9ms/step - loss: 0.4347 - accuracy: 0.8137 - val_loss: 0.4192 - val_accuracy: 0.8236\n",
            "Epoch 52/100\n",
            "93/93 [==============================] - 1s 9ms/step - loss: 0.4272 - accuracy: 0.8175 - val_loss: 0.4125 - val_accuracy: 0.8247\n",
            "Epoch 53/100\n",
            "93/93 [==============================] - 1s 9ms/step - loss: 0.4265 - accuracy: 0.8180 - val_loss: 0.4084 - val_accuracy: 0.8289\n",
            "Epoch 54/100\n",
            "93/93 [==============================] - 1s 9ms/step - loss: 0.4269 - accuracy: 0.8185 - val_loss: 0.4282 - val_accuracy: 0.8187\n",
            "Epoch 55/100\n",
            "93/93 [==============================] - 1s 9ms/step - loss: 0.4168 - accuracy: 0.8227 - val_loss: 0.4141 - val_accuracy: 0.8239\n",
            "Epoch 56/100\n",
            "93/93 [==============================] - 1s 9ms/step - loss: 0.4064 - accuracy: 0.8274 - val_loss: 0.4069 - val_accuracy: 0.8299\n",
            "Epoch 57/100\n",
            "93/93 [==============================] - 1s 9ms/step - loss: 0.4033 - accuracy: 0.8284 - val_loss: 0.4219 - val_accuracy: 0.8201\n",
            "Epoch 58/100\n",
            "93/93 [==============================] - 1s 9ms/step - loss: 0.4300 - accuracy: 0.8171 - val_loss: 0.4366 - val_accuracy: 0.8132\n",
            "Epoch 59/100\n",
            "93/93 [==============================] - 1s 9ms/step - loss: 0.3956 - accuracy: 0.8322 - val_loss: 0.3819 - val_accuracy: 0.8375\n",
            "Epoch 60/100\n",
            "93/93 [==============================] - 1s 9ms/step - loss: 0.3980 - accuracy: 0.8313 - val_loss: 0.3931 - val_accuracy: 0.8348\n",
            "Epoch 61/100\n",
            "93/93 [==============================] - 1s 9ms/step - loss: 0.3966 - accuracy: 0.8306 - val_loss: 0.4068 - val_accuracy: 0.8237\n",
            "Epoch 62/100\n",
            "93/93 [==============================] - 1s 9ms/step - loss: 0.3938 - accuracy: 0.8320 - val_loss: 0.3873 - val_accuracy: 0.8380\n",
            "Epoch 63/100\n",
            "93/93 [==============================] - 1s 9ms/step - loss: 0.3782 - accuracy: 0.8400 - val_loss: 0.3744 - val_accuracy: 0.8419\n",
            "Epoch 64/100\n",
            "93/93 [==============================] - 1s 9ms/step - loss: 0.3916 - accuracy: 0.8328 - val_loss: 0.3914 - val_accuracy: 0.8349\n",
            "Epoch 65/100\n",
            "93/93 [==============================] - 1s 9ms/step - loss: 0.3744 - accuracy: 0.8418 - val_loss: 0.3691 - val_accuracy: 0.8426\n",
            "Epoch 66/100\n",
            "93/93 [==============================] - 1s 9ms/step - loss: 0.3704 - accuracy: 0.8430 - val_loss: 0.3623 - val_accuracy: 0.8472\n",
            "Epoch 67/100\n",
            "93/93 [==============================] - 1s 9ms/step - loss: 0.3801 - accuracy: 0.8377 - val_loss: 0.3745 - val_accuracy: 0.8406\n",
            "Epoch 68/100\n",
            "93/93 [==============================] - 1s 9ms/step - loss: 0.3690 - accuracy: 0.8447 - val_loss: 0.3542 - val_accuracy: 0.8521\n",
            "Epoch 69/100\n",
            "93/93 [==============================] - 1s 9ms/step - loss: 0.3601 - accuracy: 0.8473 - val_loss: 0.3602 - val_accuracy: 0.8473\n",
            "Epoch 70/100\n",
            "93/93 [==============================] - 1s 9ms/step - loss: 0.3655 - accuracy: 0.8450 - val_loss: 0.3614 - val_accuracy: 0.8482\n",
            "Epoch 71/100\n",
            "93/93 [==============================] - 1s 9ms/step - loss: 0.3571 - accuracy: 0.8486 - val_loss: 0.3535 - val_accuracy: 0.8514\n",
            "Epoch 72/100\n",
            "93/93 [==============================] - 1s 9ms/step - loss: 0.3605 - accuracy: 0.8466 - val_loss: 0.3535 - val_accuracy: 0.8517\n",
            "Epoch 73/100\n",
            "93/93 [==============================] - 1s 10ms/step - loss: 0.3544 - accuracy: 0.8504 - val_loss: 0.3988 - val_accuracy: 0.8329\n",
            "Epoch 74/100\n",
            "93/93 [==============================] - 1s 9ms/step - loss: 0.3463 - accuracy: 0.8541 - val_loss: 0.3598 - val_accuracy: 0.8504\n",
            "Epoch 75/100\n",
            "93/93 [==============================] - 1s 9ms/step - loss: 0.3399 - accuracy: 0.8565 - val_loss: 0.3520 - val_accuracy: 0.8477\n",
            "Epoch 76/100\n",
            "93/93 [==============================] - 1s 9ms/step - loss: 0.3345 - accuracy: 0.8598 - val_loss: 0.3475 - val_accuracy: 0.8499\n",
            "Epoch 77/100\n",
            "93/93 [==============================] - 1s 10ms/step - loss: 0.3445 - accuracy: 0.8545 - val_loss: 0.3488 - val_accuracy: 0.8503\n",
            "Epoch 78/100\n",
            "93/93 [==============================] - 1s 9ms/step - loss: 0.3377 - accuracy: 0.8572 - val_loss: 0.3458 - val_accuracy: 0.8525\n",
            "Epoch 79/100\n",
            "93/93 [==============================] - 1s 9ms/step - loss: 0.3448 - accuracy: 0.8547 - val_loss: 0.3512 - val_accuracy: 0.8485\n",
            "Epoch 80/100\n",
            "93/93 [==============================] - 1s 10ms/step - loss: 0.3289 - accuracy: 0.8613 - val_loss: 0.3254 - val_accuracy: 0.8638\n",
            "Epoch 81/100\n",
            "93/93 [==============================] - 1s 10ms/step - loss: 0.3205 - accuracy: 0.8658 - val_loss: 0.3254 - val_accuracy: 0.8620\n",
            "Epoch 82/100\n",
            "93/93 [==============================] - 1s 10ms/step - loss: 0.3322 - accuracy: 0.8599 - val_loss: 0.3546 - val_accuracy: 0.8524\n",
            "Epoch 83/100\n",
            "93/93 [==============================] - 1s 10ms/step - loss: 0.3113 - accuracy: 0.8702 - val_loss: 0.3318 - val_accuracy: 0.8605\n",
            "Epoch 84/100\n",
            "93/93 [==============================] - 1s 9ms/step - loss: 0.3230 - accuracy: 0.8646 - val_loss: 0.3471 - val_accuracy: 0.8551\n",
            "Epoch 85/100\n",
            "93/93 [==============================] - 1s 9ms/step - loss: 0.3098 - accuracy: 0.8707 - val_loss: 0.3198 - val_accuracy: 0.8687\n",
            "Epoch 86/100\n",
            "93/93 [==============================] - 1s 9ms/step - loss: 0.3111 - accuracy: 0.8699 - val_loss: 0.3137 - val_accuracy: 0.8701\n",
            "Epoch 87/100\n",
            "93/93 [==============================] - 1s 9ms/step - loss: 0.3148 - accuracy: 0.8685 - val_loss: 0.3510 - val_accuracy: 0.8522\n",
            "Epoch 88/100\n",
            "93/93 [==============================] - 1s 9ms/step - loss: 0.3082 - accuracy: 0.8713 - val_loss: 0.3092 - val_accuracy: 0.8705\n",
            "Epoch 89/100\n",
            "93/93 [==============================] - 1s 10ms/step - loss: 0.2980 - accuracy: 0.8758 - val_loss: 0.3662 - val_accuracy: 0.8475\n",
            "Epoch 90/100\n",
            "93/93 [==============================] - 1s 9ms/step - loss: 0.3005 - accuracy: 0.8746 - val_loss: 0.3057 - val_accuracy: 0.8737\n",
            "Epoch 91/100\n",
            "93/93 [==============================] - 1s 9ms/step - loss: 0.2911 - accuracy: 0.8790 - val_loss: 0.2888 - val_accuracy: 0.8825\n",
            "Epoch 92/100\n",
            "93/93 [==============================] - 1s 9ms/step - loss: 0.2920 - accuracy: 0.8786 - val_loss: 0.2851 - val_accuracy: 0.8824\n",
            "Epoch 93/100\n",
            "93/93 [==============================] - 1s 9ms/step - loss: 0.2858 - accuracy: 0.8813 - val_loss: 0.3359 - val_accuracy: 0.8600\n",
            "Epoch 94/100\n",
            "93/93 [==============================] - 1s 9ms/step - loss: 0.2805 - accuracy: 0.8843 - val_loss: 0.2796 - val_accuracy: 0.8838\n",
            "Epoch 95/100\n",
            "93/93 [==============================] - 1s 9ms/step - loss: 0.2773 - accuracy: 0.8854 - val_loss: 0.2841 - val_accuracy: 0.8833\n",
            "Epoch 96/100\n",
            "93/93 [==============================] - 1s 9ms/step - loss: 0.2817 - accuracy: 0.8834 - val_loss: 0.2983 - val_accuracy: 0.8742\n",
            "Epoch 97/100\n",
            "93/93 [==============================] - 1s 10ms/step - loss: 0.2793 - accuracy: 0.8847 - val_loss: 0.2826 - val_accuracy: 0.8837\n",
            "Epoch 98/100\n",
            "93/93 [==============================] - 1s 9ms/step - loss: 0.2755 - accuracy: 0.8859 - val_loss: 0.3025 - val_accuracy: 0.8782\n",
            "Epoch 99/100\n",
            "93/93 [==============================] - 1s 9ms/step - loss: 0.2667 - accuracy: 0.8898 - val_loss: 0.2690 - val_accuracy: 0.8902\n",
            "Epoch 100/100\n",
            "93/93 [==============================] - 1s 9ms/step - loss: 0.2632 - accuracy: 0.8918 - val_loss: 0.2734 - val_accuracy: 0.8848\n"
          ],
          "name": "stdout"
        }
      ]
    },
    {
      "cell_type": "code",
      "metadata": {
        "id": "TjHDBrSyYsZm",
        "outputId": "a976c98b-26bf-4dde-a424-4aed325ed145",
        "colab": {
          "base_uri": "https://localhost:8080/",
          "height": 50
        }
      },
      "source": [
        "dev_acc = nn.evaluate(x_dev, y_dev)[1]\n",
        "print('The dev accuracy is',dev_acc)"
      ],
      "execution_count": null,
      "outputs": [
        {
          "output_type": "stream",
          "text": [
            "1816/1816 [==============================] - 4s 2ms/step - loss: 0.2734 - accuracy: 0.8848\n",
            "The dev accuracy is 0.88478684425354\n"
          ],
          "name": "stdout"
        }
      ]
    },
    {
      "cell_type": "code",
      "metadata": {
        "id": "5tJHfmtASdet",
        "outputId": "9d454d5f-d709-4044-9356-a71036da2522",
        "colab": {
          "base_uri": "https://localhost:8080/",
          "height": 899
        }
      },
      "source": [
        "plt.figure(figsize = (10,7))\n",
        "plt.plot(history.history['accuracy'], color = 'yellow')\n",
        "plt.plot(history.history['val_accuracy'], color = 'blue')\n",
        "plt.title('Model accuracy')\n",
        "plt.ylabel('Accuracy')\n",
        "plt.xlabel('Epoch')\n",
        "plt.legend(['Train', 'Validation'], loc='upper left')\n",
        "plt.show()\n",
        "\n",
        "plt.figure(figsize = (10,7))\n",
        "plt.plot(history.history['loss'], color = 'yellow')\n",
        "plt.plot(history.history['val_loss'], color = 'blue')\n",
        "plt.ylim((0,1))\n",
        "plt.title('Model loss')\n",
        "plt.ylabel('Loss')\n",
        "plt.xlabel('Epoch')\n",
        "plt.legend(['Train', 'Validation'], loc='upper left')\n",
        "plt.show()\n"
      ],
      "execution_count": null,
      "outputs": [
        {
          "output_type": "display_data",
          "data": {
            "image/png": "[encoded data removed]",
            "text/plain": [
              "<Figure size 720x504 with 1 Axes>"
            ]
          },
          "metadata": {
            "tags": [],
            "needs_background": "light"
          }
        },
        {
          "output_type": "display_data",
          "data": {
            "image/png": "[encoded data removed]",
            "text/plain": [
              "<Figure size 720x504 with 1 Axes>"
            ]
          },
          "metadata": {
            "tags": [],
            "needs_background": "light"
          }
        }
      ]
    },
    {
      "cell_type": "markdown",
      "metadata": {
        "id": "zW2idlVzVV8y"
      },
      "source": [
        "# KDDCUP99"
      ]
    },
    {
      "cell_type": "code",
      "metadata": {
        "id": "tGevFmj_Urb-"
      },
      "source": [
        "kddcup99 = fetch_kddcup99()\n",
        "x = kddcup99.data\n",
        "y_fetch = kddcup99.target"
      ],
      "execution_count": null,
      "outputs": []
    },
    {
      "cell_type": "code",
      "metadata": {
        "id": "XSdRg_iXVhYB",
        "outputId": "43f26e04-b04a-49dd-d0ab-736a33f4384d",
        "colab": {
          "base_uri": "https://localhost:8080/",
          "height": 50
        }
      },
      "source": [
        "x = pd.DataFrame(x)\n",
        "y = pd.DataFrame(y_fetch)\n",
        "print(x.shape)\n",
        "print(y.shape)"
      ],
      "execution_count": null,
      "outputs": [
        {
          "output_type": "stream",
          "text": [
            "(494021, 41)\n",
            "(494021, 1)\n"
          ],
          "name": "stdout"
        }
      ]
    },
    {
      "cell_type": "code",
      "metadata": {
        "id": "ED4-LNO6VmCb"
      },
      "source": [
        "le = LabelEncoder()\n",
        "for i in [1,2,3]:\n",
        "  x[i] = [j.decode('utf-8') for j in x[i]]\n",
        "  x[i] = le.fit_transform(x[i])\n",
        "\n",
        "for i in range(x.shape[1]):\n",
        "  x[i] = x[i].astype('float')"
      ],
      "execution_count": null,
      "outputs": []
    },
    {
      "cell_type": "code",
      "metadata": {
        "id": "uELVyORUWCve"
      },
      "source": [
        "y = [i.decode('utf-8') for i in y_fetch]\n",
        "y = pd.DataFrame(le.fit_transform(y))"
      ],
      "execution_count": null,
      "outputs": []
    },
    {
      "cell_type": "code",
      "metadata": {
        "id": "VAAPL2DyWPnY",
        "outputId": "2e32dda4-8cf9-4fd3-9496-d20a7b83e482",
        "colab": {
          "base_uri": "https://localhost:8080/",
          "height": 118
        }
      },
      "source": [
        "y = to_categorical(y)\n",
        "x_train, x_test, y_train, y_test = train_test_split(x, y, test_size = 0.2)\n",
        "x_dev, x_test, y_dev, y_test = train_test_split(x_test, y_test, test_size = 0.5)\n",
        "print(x_train.shape)\n",
        "print(x_dev.shape)\n",
        "print(x_test.shape)\n",
        "print(y_train.shape)\n",
        "print(y_dev.shape)\n",
        "print(y_test.shape)\n"
      ],
      "execution_count": null,
      "outputs": [
        {
          "output_type": "stream",
          "text": [
            "(395216, 41)\n",
            "(49402, 41)\n",
            "(49403, 41)\n",
            "(395216, 23)\n",
            "(49402, 23)\n",
            "(49403, 23)\n"
          ],
          "name": "stdout"
        }
      ]
    },
    {
      "cell_type": "code",
      "metadata": {
        "id": "Wh4t9UudYTRI"
      },
      "source": [
        "nn = models.Sequential()\n",
        "nn.add(layers.Dense(1024, activation = 'relu', input_shape = (41, )))\n",
        "nn.add(layers.Dense(512, activation = 'relu'))\n",
        "nn.add(layers.Dense(256, activation = 'relu'))\n",
        "nn.add(layers.Dense(128, activation = 'relu'))\n",
        "nn.add(layers.Dense(54, activation = 'relu'))\n",
        "nn.add(layers.Dense(23, activation = 'softmax'))\n",
        "nn.compile(optimizer = 'adam', loss = 'categorical_crossentropy', metrics = ['accuracy'])"
      ],
      "execution_count": null,
      "outputs": []
    },
    {
      "cell_type": "code",
      "metadata": {
        "id": "Q83W7B2vYgz1",
        "outputId": "9ca2d389-d8db-40aa-e676-609b518005ea",
        "colab": {
          "base_uri": "https://localhost:8080/",
          "height": 689
        }
      },
      "source": [
        "history = nn.fit(x_train, y_train, epochs = 20, batch_size = 1500, validation_data = (x_dev, y_dev))"
      ],
      "execution_count": null,
      "outputs": [
        {
          "output_type": "stream",
          "text": [
            "Epoch 1/20\n",
            "264/264 [==============================] - 2s 6ms/step - loss: 11.2379 - accuracy: 0.9427 - val_loss: 3.4232 - val_accuracy: 0.9785\n",
            "Epoch 2/20\n",
            "264/264 [==============================] - 1s 4ms/step - loss: 3.1439 - accuracy: 0.9740 - val_loss: 1.5743 - val_accuracy: 0.9908\n",
            "Epoch 3/20\n",
            "264/264 [==============================] - 1s 4ms/step - loss: 0.4483 - accuracy: 0.9867 - val_loss: 0.3956 - val_accuracy: 0.9919\n",
            "Epoch 4/20\n",
            "264/264 [==============================] - 1s 5ms/step - loss: 0.3910 - accuracy: 0.9901 - val_loss: 0.5235 - val_accuracy: 0.9921\n",
            "Epoch 5/20\n",
            "264/264 [==============================] - 1s 4ms/step - loss: 0.4584 - accuracy: 0.9883 - val_loss: 0.3396 - val_accuracy: 0.9932\n",
            "Epoch 6/20\n",
            "264/264 [==============================] - 1s 4ms/step - loss: 0.3658 - accuracy: 0.9885 - val_loss: 0.7296 - val_accuracy: 0.9951\n",
            "Epoch 7/20\n",
            "264/264 [==============================] - 1s 5ms/step - loss: 0.2581 - accuracy: 0.9915 - val_loss: 0.1585 - val_accuracy: 0.9971\n",
            "Epoch 8/20\n",
            "264/264 [==============================] - 1s 4ms/step - loss: 0.1313 - accuracy: 0.9931 - val_loss: 0.3478 - val_accuracy: 0.9964\n",
            "Epoch 9/20\n",
            "264/264 [==============================] - 1s 5ms/step - loss: 0.0991 - accuracy: 0.9941 - val_loss: 1.8531 - val_accuracy: 0.9976\n",
            "Epoch 10/20\n",
            "264/264 [==============================] - 1s 4ms/step - loss: 0.2350 - accuracy: 0.9926 - val_loss: 0.1273 - val_accuracy: 0.9920\n",
            "Epoch 11/20\n",
            "264/264 [==============================] - 1s 4ms/step - loss: 0.0473 - accuracy: 0.9969 - val_loss: 0.0574 - val_accuracy: 0.9976\n",
            "Epoch 12/20\n",
            "264/264 [==============================] - 1s 5ms/step - loss: 0.0501 - accuracy: 0.9959 - val_loss: 0.1293 - val_accuracy: 0.9973\n",
            "Epoch 13/20\n",
            "264/264 [==============================] - 1s 4ms/step - loss: 0.2800 - accuracy: 0.9919 - val_loss: 0.2920 - val_accuracy: 0.9967\n",
            "Epoch 14/20\n",
            "264/264 [==============================] - 1s 4ms/step - loss: 0.1726 - accuracy: 0.9955 - val_loss: 0.0614 - val_accuracy: 0.9975\n",
            "Epoch 15/20\n",
            "264/264 [==============================] - 1s 4ms/step - loss: 0.0208 - accuracy: 0.9976 - val_loss: 0.1006 - val_accuracy: 0.9979\n",
            "Epoch 16/20\n",
            "264/264 [==============================] - 1s 4ms/step - loss: 0.0341 - accuracy: 0.9975 - val_loss: 0.0906 - val_accuracy: 0.9981\n",
            "Epoch 17/20\n",
            "264/264 [==============================] - 1s 4ms/step - loss: 0.0160 - accuracy: 0.9982 - val_loss: 0.0466 - val_accuracy: 0.9984\n",
            "Epoch 18/20\n",
            "264/264 [==============================] - 1s 4ms/step - loss: 0.0141 - accuracy: 0.9984 - val_loss: 0.0468 - val_accuracy: 0.9984\n",
            "Epoch 19/20\n",
            "264/264 [==============================] - 1s 5ms/step - loss: 0.0130 - accuracy: 0.9984 - val_loss: 0.0250 - val_accuracy: 0.9983\n",
            "Epoch 20/20\n",
            "264/264 [==============================] - 1s 4ms/step - loss: 0.0084 - accuracy: 0.9987 - val_loss: 0.0175 - val_accuracy: 0.9988\n"
          ],
          "name": "stdout"
        }
      ]
    },
    {
      "cell_type": "code",
      "metadata": {
        "id": "gk3E8a-gZcOc",
        "outputId": "4f311cc6-7717-487a-cedf-5501224f5004",
        "colab": {
          "base_uri": "https://localhost:8080/",
          "height": 50
        }
      },
      "source": [
        "dev_acc = nn.evaluate(x_dev, y_dev)[1]\n",
        "print('The dev accuracy is', dev_acc)"
      ],
      "execution_count": null,
      "outputs": [
        {
          "output_type": "stream",
          "text": [
            "1544/1544 [==============================] - 3s 2ms/step - loss: 0.0175 - accuracy: 0.9988\n",
            "The dev accuracy is 0.9988057017326355\n"
          ],
          "name": "stdout"
        }
      ]
    },
    {
      "cell_type": "code",
      "metadata": {
        "id": "1zi6ii84ZyeN",
        "outputId": "8077195e-9b02-4ed6-ab34-79fe72f17f5c",
        "colab": {
          "base_uri": "https://localhost:8080/",
          "height": 899
        }
      },
      "source": [
        "plt.figure(figsize = (10,7))\n",
        "plt.plot(history.history['accuracy'], color = 'yellow')\n",
        "plt.plot(history.history['val_accuracy'], color = 'blue')\n",
        "plt.title('Model accuracy')\n",
        "plt.ylabel('Accuracy')\n",
        "plt.xlabel('Epoch')\n",
        "plt.legend(['Train', 'Validation'], loc='upper left')\n",
        "plt.show()\n",
        "\n",
        "plt.figure(figsize = (10,7))\n",
        "plt.plot(history.history['loss'], color = 'yellow')\n",
        "plt.plot(history.history['val_loss'], color = 'blue')\n",
        "plt.ylim((0,3))\n",
        "plt.title('Model loss')\n",
        "plt.ylabel('Loss')\n",
        "plt.xlabel('Epoch')\n",
        "plt.legend(['Train', 'Validation'], loc='upper left')\n",
        "plt.show()"
      ],
      "execution_count": null,
      "outputs": [
        {
          "output_type": "display_data",
          "data": {
            "image/png": "[encoded data removed]",
            "text/plain": [
              "<Figure size 720x504 with 1 Axes>"
            ]
          },
          "metadata": {
            "tags": [],
            "needs_background": "light"
          }
        },
        {
          "output_type": "display_data",
          "data": {
            "image/png": "[encoded data removed]",
            "text/plain": [
              "<Figure size 720x504 with 1 Axes>"
            ]
          },
          "metadata": {
            "tags": [],
            "needs_background": "light"
          }
        }
      ]
    },
    {
      "cell_type": "markdown",
      "metadata": {
        "id": "FcI4B7WQaoXR"
      },
      "source": [
        "# BREAST CANCER"
      ]
    },
    {
      "cell_type": "code",
      "metadata": {
        "id": "R3om3Ja5aBZf"
      },
      "source": [
        "cancer = load_breast_cancer()\n",
        "x = cancer.data\n",
        "y = cancer.target"
      ],
      "execution_count": null,
      "outputs": []
    },
    {
      "cell_type": "code",
      "metadata": {
        "id": "4B0sFdJ7avqB",
        "outputId": "49a9658d-18c0-494e-a2ba-9dc7a08217ef",
        "colab": {
          "base_uri": "https://localhost:8080/",
          "height": 50
        }
      },
      "source": [
        "x = pd.DataFrame(x)\n",
        "y = pd.DataFrame(y)\n",
        "print(x.shape)\n",
        "print(y.shape)"
      ],
      "execution_count": null,
      "outputs": [
        {
          "output_type": "stream",
          "text": [
            "(569, 30)\n",
            "(569, 1)\n"
          ],
          "name": "stdout"
        }
      ]
    },
    {
      "cell_type": "code",
      "metadata": {
        "id": "KiTzow57a64o"
      },
      "source": [
        "sc = StandardScaler()\n",
        "x = pd.DataFrame(sc.fit_transform(x))"
      ],
      "execution_count": null,
      "outputs": []
    },
    {
      "cell_type": "code",
      "metadata": {
        "id": "kHFFJj-RbAya",
        "outputId": "f9d40d65-9dc5-4cde-b50e-86eaad1bf029",
        "colab": {
          "base_uri": "https://localhost:8080/",
          "height": 118
        }
      },
      "source": [
        "x_train, x_test, y_train, y_test = train_test_split(x, y, test_size = 0.2, shuffle = True)\n",
        "x_dev, x_test, y_dev, y_test = train_test_split(x, y, test_size = 0.5, shuffle = True)\n",
        "print(x_train.shape)\n",
        "print(x_dev.shape)\n",
        "print(x_test.shape)\n",
        "print(y_train.shape)\n",
        "print(y_dev.shape)\n",
        "print(y_test.shape)"
      ],
      "execution_count": null,
      "outputs": [
        {
          "output_type": "stream",
          "text": [
            "(455, 30)\n",
            "(284, 30)\n",
            "(285, 30)\n",
            "(455, 1)\n",
            "(284, 1)\n",
            "(285, 1)\n"
          ],
          "name": "stdout"
        }
      ]
    },
    {
      "cell_type": "code",
      "metadata": {
        "id": "ddBXT5VzbHgG"
      },
      "source": [
        "nn= models.Sequential()\n",
        "nn.add(layers.Dense(256, activation = 'relu', input_shape = (30, )))\n",
        "nn.add(layers.Dense(128, activation = 'relu'))\n",
        "nn.add(layers.Dense(64, activation = 'relu'))\n",
        "nn.add(layers.Dense(1, activation = 'sigmoid'))\n",
        "nn.compile(optimizer = 'adam', loss = 'binary_crossentropy', metrics = ['accuracy'])"
      ],
      "execution_count": null,
      "outputs": []
    },
    {
      "cell_type": "code",
      "metadata": {
        "id": "sBAET6fjbYaT",
        "outputId": "cbc6113f-b9f9-4b9f-96fc-784a830a052f",
        "colab": {
          "base_uri": "https://localhost:8080/",
          "height": 689
        }
      },
      "source": [
        "history = nn.fit(x_train, y_train, epochs = 20, validation_data = (x_dev, y_dev))"
      ],
      "execution_count": null,
      "outputs": [
        {
          "output_type": "stream",
          "text": [
            "Epoch 1/20\n",
            "15/15 [==============================] - 0s 13ms/step - loss: 0.3232 - accuracy: 0.8791 - val_loss: 0.1228 - val_accuracy: 0.9542\n",
            "Epoch 2/20\n",
            "15/15 [==============================] - 0s 4ms/step - loss: 0.0853 - accuracy: 0.9736 - val_loss: 0.0853 - val_accuracy: 0.9718\n",
            "Epoch 3/20\n",
            "15/15 [==============================] - 0s 4ms/step - loss: 0.0552 - accuracy: 0.9824 - val_loss: 0.0606 - val_accuracy: 0.9894\n",
            "Epoch 4/20\n",
            "15/15 [==============================] - 0s 4ms/step - loss: 0.0435 - accuracy: 0.9934 - val_loss: 0.0521 - val_accuracy: 0.9930\n",
            "Epoch 5/20\n",
            "15/15 [==============================] - 0s 4ms/step - loss: 0.0336 - accuracy: 0.9912 - val_loss: 0.0486 - val_accuracy: 0.9894\n",
            "Epoch 6/20\n",
            "15/15 [==============================] - 0s 4ms/step - loss: 0.0286 - accuracy: 0.9934 - val_loss: 0.0452 - val_accuracy: 0.9894\n",
            "Epoch 7/20\n",
            "15/15 [==============================] - 0s 4ms/step - loss: 0.0220 - accuracy: 0.9934 - val_loss: 0.0377 - val_accuracy: 0.9894\n",
            "Epoch 8/20\n",
            "15/15 [==============================] - 0s 4ms/step - loss: 0.0247 - accuracy: 0.9912 - val_loss: 0.0356 - val_accuracy: 0.9894\n",
            "Epoch 9/20\n",
            "15/15 [==============================] - 0s 4ms/step - loss: 0.0164 - accuracy: 0.9978 - val_loss: 0.0318 - val_accuracy: 0.9930\n",
            "Epoch 10/20\n",
            "15/15 [==============================] - 0s 4ms/step - loss: 0.0130 - accuracy: 0.9978 - val_loss: 0.0295 - val_accuracy: 0.9930\n",
            "Epoch 11/20\n",
            "15/15 [==============================] - 0s 4ms/step - loss: 0.0105 - accuracy: 0.9978 - val_loss: 0.0255 - val_accuracy: 0.9930\n",
            "Epoch 12/20\n",
            "15/15 [==============================] - 0s 4ms/step - loss: 0.0076 - accuracy: 0.9978 - val_loss: 0.0263 - val_accuracy: 0.9930\n",
            "Epoch 13/20\n",
            "15/15 [==============================] - 0s 5ms/step - loss: 0.0057 - accuracy: 0.9978 - val_loss: 0.0251 - val_accuracy: 0.9965\n",
            "Epoch 14/20\n",
            "15/15 [==============================] - 0s 4ms/step - loss: 0.0037 - accuracy: 1.0000 - val_loss: 0.0260 - val_accuracy: 0.9965\n",
            "Epoch 15/20\n",
            "15/15 [==============================] - 0s 4ms/step - loss: 0.0028 - accuracy: 1.0000 - val_loss: 0.0264 - val_accuracy: 0.9965\n",
            "Epoch 16/20\n",
            "15/15 [==============================] - 0s 4ms/step - loss: 0.0023 - accuracy: 1.0000 - val_loss: 0.0261 - val_accuracy: 0.9965\n",
            "Epoch 17/20\n",
            "15/15 [==============================] - 0s 4ms/step - loss: 0.0018 - accuracy: 1.0000 - val_loss: 0.0269 - val_accuracy: 0.9965\n",
            "Epoch 18/20\n",
            "15/15 [==============================] - 0s 4ms/step - loss: 0.0015 - accuracy: 1.0000 - val_loss: 0.0278 - val_accuracy: 0.9965\n",
            "Epoch 19/20\n",
            "15/15 [==============================] - 0s 4ms/step - loss: 0.0013 - accuracy: 1.0000 - val_loss: 0.0279 - val_accuracy: 0.9965\n",
            "Epoch 20/20\n",
            "15/15 [==============================] - 0s 4ms/step - loss: 0.0014 - accuracy: 1.0000 - val_loss: 0.0281 - val_accuracy: 0.9965\n"
          ],
          "name": "stdout"
        }
      ]
    },
    {
      "cell_type": "code",
      "metadata": {
        "id": "v2WC2Ik9bfGS",
        "outputId": "dd661d29-e26d-4d26-9dc6-17433bbb327d",
        "colab": {
          "base_uri": "https://localhost:8080/",
          "height": 50
        }
      },
      "source": [
        "dev_acc = nn.evaluate(x_dev, y_dev)[1]\n",
        "print('The dev accuracy is', dev_acc)"
      ],
      "execution_count": null,
      "outputs": [
        {
          "output_type": "stream",
          "text": [
            "9/9 [==============================] - 0s 2ms/step - loss: 0.0281 - accuracy: 0.9965\n",
            "The dev accuracy is 0.9964788556098938\n"
          ],
          "name": "stdout"
        }
      ]
    },
    {
      "cell_type": "code",
      "metadata": {
        "id": "N88I7HP7bquK",
        "outputId": "7a4a7a83-3376-45a8-b8ed-16ce7f73114d",
        "colab": {
          "base_uri": "https://localhost:8080/",
          "height": 899
        }
      },
      "source": [
        "plt.figure(figsize = (10,7))\n",
        "plt.plot(history.history['accuracy'], color = 'yellow')\n",
        "plt.plot(history.history['val_accuracy'], color = 'blue')\n",
        "plt.title('Model accuracy')\n",
        "plt.ylabel('Accuracy')\n",
        "plt.xlabel('Epoch')\n",
        "plt.legend(['Train', 'Validation'], loc='upper left')\n",
        "plt.show()\n",
        "\n",
        "plt.figure(figsize = (10,7))\n",
        "plt.plot(history.history['loss'], color = 'yellow')\n",
        "plt.plot(history.history['val_loss'], color = 'blue')\n",
        "plt.ylim((0,3))\n",
        "plt.title('Model loss')\n",
        "plt.ylabel('Loss')\n",
        "plt.xlabel('Epoch')\n",
        "plt.legend(['Train', 'Validation'], loc='upper left')\n",
        "plt.show()"
      ],
      "execution_count": null,
      "outputs": [
        {
          "output_type": "display_data",
          "data": {
            "image/png": "[encoded data removed]",
            "text/plain": [
              "<Figure size 720x504 with 1 Axes>"
            ]
          },
          "metadata": {
            "tags": [],
            "needs_background": "light"
          }
        },
        {
          "output_type": "display_data",
          "data": {
            "image/png": "[encoded data removed]",
            "text/plain": [
              "<Figure size 720x504 with 1 Axes>"
            ]
          },
          "metadata": {
            "tags": [],
            "needs_background": "light"
          }
        }
      ]
    },
    {
      "cell_type": "markdown",
      "metadata": {
        "id": "SnSeA1lgb-WE"
      },
      "source": [
        "# WINE "
      ]
    },
    {
      "cell_type": "code",
      "metadata": {
        "id": "NK6_xmQTbxMA"
      },
      "source": [
        "wine = load_wine()\n",
        "x = wine.data\n",
        "y = wine.target"
      ],
      "execution_count": null,
      "outputs": []
    },
    {
      "cell_type": "code",
      "metadata": {
        "id": "3fMFGXPicKAo",
        "outputId": "627799b4-088a-4910-9ab3-6dcee330927e",
        "colab": {
          "base_uri": "https://localhost:8080/",
          "height": 50
        }
      },
      "source": [
        "x = pd.DataFrame(x)\n",
        "y = pd.DataFrame(y)\n",
        "print(x.shape)\n",
        "print(y.shape)"
      ],
      "execution_count": null,
      "outputs": [
        {
          "output_type": "stream",
          "text": [
            "(178, 13)\n",
            "(178, 1)\n"
          ],
          "name": "stdout"
        }
      ]
    },
    {
      "cell_type": "code",
      "metadata": {
        "id": "cw93Zq2_cRsU"
      },
      "source": [
        "sc = StandardScaler()\n",
        "x = pd.DataFrame(sc.fit_transform(x))"
      ],
      "execution_count": null,
      "outputs": []
    },
    {
      "cell_type": "code",
      "metadata": {
        "id": "1NM3X5gmcdAv",
        "outputId": "7b0accd5-3db7-4b1b-ac91-5f6bc6ef4367",
        "colab": {
          "base_uri": "https://localhost:8080/",
          "height": 118
        }
      },
      "source": [
        "y1 = to_categorical(y)\n",
        "x_train, x_test, y_train, y_test = train_test_split(x, y1, test_size = 0.2, shuffle = True)\n",
        "x_dev, x_test, y_dev, y_test = train_test_split(x_test, y_test, test_size = 0.5, shuffle = True)\n",
        "print(x_train.shape)\n",
        "print(x_dev.shape)\n",
        "print(x_test.shape)\n",
        "print(y_train.shape)\n",
        "print(y_dev.shape)\n",
        "print(y_test.shape)"
      ],
      "execution_count": null,
      "outputs": [
        {
          "output_type": "stream",
          "text": [
            "(142, 13)\n",
            "(18, 13)\n",
            "(18, 13)\n",
            "(142, 3)\n",
            "(18, 3)\n",
            "(18, 3)\n"
          ],
          "name": "stdout"
        }
      ]
    },
    {
      "cell_type": "code",
      "metadata": {
        "id": "jIhYoI6gckDu"
      },
      "source": [
        "nn = models.Sequential()\n",
        "nn.add(layers.Dense(64, activation = 'relu', input_shape = (13, )))\n",
        "nn.add(layers.Dense(32, activation = 'relu'))\n",
        "nn.add(layers.Dense(3, activation = 'sigmoid'))\n",
        "nn.compile(optimizer = 'sgd', loss = 'categorical_crossentropy', metrics = ['accuracy'])"
      ],
      "execution_count": null,
      "outputs": []
    },
    {
      "cell_type": "code",
      "metadata": {
        "id": "YpfGubDic4SN",
        "outputId": "e0c89789-9e4b-4c31-c11a-e8f69f85aef1",
        "colab": {
          "base_uri": "https://localhost:8080/",
          "height": 1000
        }
      },
      "source": [
        "history = nn.fit(x_train, y_train, epochs = 100, validation_data = (x_dev, y_dev))"
      ],
      "execution_count": null,
      "outputs": [
        {
          "output_type": "stream",
          "text": [
            "Epoch 1/100\n",
            "5/5 [==============================] - 0s 27ms/step - loss: 1.0796 - accuracy: 0.4507 - val_loss: 1.0317 - val_accuracy: 0.6111\n",
            "Epoch 2/100\n",
            "5/5 [==============================] - 0s 5ms/step - loss: 1.0690 - accuracy: 0.4718 - val_loss: 1.0227 - val_accuracy: 0.6667\n",
            "Epoch 3/100\n",
            "5/5 [==============================] - 0s 5ms/step - loss: 1.0586 - accuracy: 0.5000 - val_loss: 1.0143 - val_accuracy: 0.7222\n",
            "Epoch 4/100\n",
            "5/5 [==============================] - 0s 5ms/step - loss: 1.0486 - accuracy: 0.5211 - val_loss: 1.0061 - val_accuracy: 0.7778\n",
            "Epoch 5/100\n",
            "5/5 [==============================] - 0s 5ms/step - loss: 1.0386 - accuracy: 0.5423 - val_loss: 0.9978 - val_accuracy: 0.7778\n",
            "Epoch 6/100\n",
            "5/5 [==============================] - 0s 5ms/step - loss: 1.0292 - accuracy: 0.5493 - val_loss: 0.9895 - val_accuracy: 0.8333\n",
            "Epoch 7/100\n",
            "5/5 [==============================] - 0s 5ms/step - loss: 1.0196 - accuracy: 0.6268 - val_loss: 0.9812 - val_accuracy: 0.8333\n",
            "Epoch 8/100\n",
            "5/5 [==============================] - 0s 5ms/step - loss: 1.0100 - accuracy: 0.6479 - val_loss: 0.9731 - val_accuracy: 0.8333\n",
            "Epoch 9/100\n",
            "5/5 [==============================] - 0s 5ms/step - loss: 1.0006 - accuracy: 0.7042 - val_loss: 0.9652 - val_accuracy: 0.8333\n",
            "Epoch 10/100\n",
            "5/5 [==============================] - 0s 5ms/step - loss: 0.9914 - accuracy: 0.7254 - val_loss: 0.9572 - val_accuracy: 0.8333\n",
            "Epoch 11/100\n",
            "5/5 [==============================] - 0s 6ms/step - loss: 0.9822 - accuracy: 0.7676 - val_loss: 0.9491 - val_accuracy: 0.8333\n",
            "Epoch 12/100\n",
            "5/5 [==============================] - 0s 5ms/step - loss: 0.9730 - accuracy: 0.7887 - val_loss: 0.9411 - val_accuracy: 0.8889\n",
            "Epoch 13/100\n",
            "5/5 [==============================] - 0s 5ms/step - loss: 0.9639 - accuracy: 0.8099 - val_loss: 0.9331 - val_accuracy: 0.8889\n",
            "Epoch 14/100\n",
            "5/5 [==============================] - 0s 5ms/step - loss: 0.9547 - accuracy: 0.8239 - val_loss: 0.9252 - val_accuracy: 0.8889\n",
            "Epoch 15/100\n",
            "5/5 [==============================] - 0s 5ms/step - loss: 0.9457 - accuracy: 0.8451 - val_loss: 0.9171 - val_accuracy: 0.8889\n",
            "Epoch 16/100\n",
            "5/5 [==============================] - 0s 5ms/step - loss: 0.9368 - accuracy: 0.8732 - val_loss: 0.9092 - val_accuracy: 0.8889\n",
            "Epoch 17/100\n",
            "5/5 [==============================] - 0s 5ms/step - loss: 0.9279 - accuracy: 0.8873 - val_loss: 0.9010 - val_accuracy: 0.8889\n",
            "Epoch 18/100\n",
            "5/5 [==============================] - 0s 5ms/step - loss: 0.9191 - accuracy: 0.8944 - val_loss: 0.8926 - val_accuracy: 0.8889\n",
            "Epoch 19/100\n",
            "5/5 [==============================] - 0s 5ms/step - loss: 0.9100 - accuracy: 0.8944 - val_loss: 0.8841 - val_accuracy: 0.8889\n",
            "Epoch 20/100\n",
            "5/5 [==============================] - 0s 6ms/step - loss: 0.9009 - accuracy: 0.9014 - val_loss: 0.8757 - val_accuracy: 0.8889\n",
            "Epoch 21/100\n",
            "5/5 [==============================] - 0s 5ms/step - loss: 0.8920 - accuracy: 0.9014 - val_loss: 0.8671 - val_accuracy: 0.8889\n",
            "Epoch 22/100\n",
            "5/5 [==============================] - 0s 5ms/step - loss: 0.8831 - accuracy: 0.9085 - val_loss: 0.8585 - val_accuracy: 0.8889\n",
            "Epoch 23/100\n",
            "5/5 [==============================] - 0s 5ms/step - loss: 0.8740 - accuracy: 0.9085 - val_loss: 0.8496 - val_accuracy: 0.8889\n",
            "Epoch 24/100\n",
            "5/5 [==============================] - 0s 5ms/step - loss: 0.8650 - accuracy: 0.9085 - val_loss: 0.8404 - val_accuracy: 0.9444\n",
            "Epoch 25/100\n",
            "5/5 [==============================] - 0s 5ms/step - loss: 0.8552 - accuracy: 0.9085 - val_loss: 0.8313 - val_accuracy: 0.9444\n",
            "Epoch 26/100\n",
            "5/5 [==============================] - 0s 5ms/step - loss: 0.8460 - accuracy: 0.9085 - val_loss: 0.8222 - val_accuracy: 0.9444\n",
            "Epoch 27/100\n",
            "5/5 [==============================] - 0s 6ms/step - loss: 0.8365 - accuracy: 0.9085 - val_loss: 0.8131 - val_accuracy: 0.9444\n",
            "Epoch 28/100\n",
            "5/5 [==============================] - 0s 5ms/step - loss: 0.8268 - accuracy: 0.9155 - val_loss: 0.8038 - val_accuracy: 0.9444\n",
            "Epoch 29/100\n",
            "5/5 [==============================] - 0s 5ms/step - loss: 0.8170 - accuracy: 0.9155 - val_loss: 0.7941 - val_accuracy: 1.0000\n",
            "Epoch 30/100\n",
            "5/5 [==============================] - 0s 5ms/step - loss: 0.8072 - accuracy: 0.9225 - val_loss: 0.7845 - val_accuracy: 1.0000\n",
            "Epoch 31/100\n",
            "5/5 [==============================] - 0s 5ms/step - loss: 0.7973 - accuracy: 0.9296 - val_loss: 0.7750 - val_accuracy: 1.0000\n",
            "Epoch 32/100\n",
            "5/5 [==============================] - 0s 5ms/step - loss: 0.7876 - accuracy: 0.9296 - val_loss: 0.7653 - val_accuracy: 1.0000\n",
            "Epoch 33/100\n",
            "5/5 [==============================] - 0s 5ms/step - loss: 0.7773 - accuracy: 0.9296 - val_loss: 0.7554 - val_accuracy: 1.0000\n",
            "Epoch 34/100\n",
            "5/5 [==============================] - 0s 5ms/step - loss: 0.7673 - accuracy: 0.9296 - val_loss: 0.7451 - val_accuracy: 1.0000\n",
            "Epoch 35/100\n",
            "5/5 [==============================] - 0s 5ms/step - loss: 0.7568 - accuracy: 0.9296 - val_loss: 0.7345 - val_accuracy: 1.0000\n",
            "Epoch 36/100\n",
            "5/5 [==============================] - 0s 5ms/step - loss: 0.7459 - accuracy: 0.9225 - val_loss: 0.7241 - val_accuracy: 1.0000\n",
            "Epoch 37/100\n",
            "5/5 [==============================] - 0s 6ms/step - loss: 0.7352 - accuracy: 0.9225 - val_loss: 0.7136 - val_accuracy: 1.0000\n",
            "Epoch 38/100\n",
            "5/5 [==============================] - 0s 5ms/step - loss: 0.7242 - accuracy: 0.9225 - val_loss: 0.7030 - val_accuracy: 1.0000\n",
            "Epoch 39/100\n",
            "5/5 [==============================] - 0s 5ms/step - loss: 0.7134 - accuracy: 0.9296 - val_loss: 0.6925 - val_accuracy: 1.0000\n",
            "Epoch 40/100\n",
            "5/5 [==============================] - 0s 5ms/step - loss: 0.7021 - accuracy: 0.9296 - val_loss: 0.6818 - val_accuracy: 1.0000\n",
            "Epoch 41/100\n",
            "5/5 [==============================] - 0s 5ms/step - loss: 0.6910 - accuracy: 0.9296 - val_loss: 0.6708 - val_accuracy: 1.0000\n",
            "Epoch 42/100\n",
            "5/5 [==============================] - 0s 5ms/step - loss: 0.6798 - accuracy: 0.9296 - val_loss: 0.6599 - val_accuracy: 1.0000\n",
            "Epoch 43/100\n",
            "5/5 [==============================] - 0s 5ms/step - loss: 0.6683 - accuracy: 0.9366 - val_loss: 0.6487 - val_accuracy: 1.0000\n",
            "Epoch 44/100\n",
            "5/5 [==============================] - 0s 5ms/step - loss: 0.6569 - accuracy: 0.9366 - val_loss: 0.6373 - val_accuracy: 1.0000\n",
            "Epoch 45/100\n",
            "5/5 [==============================] - 0s 5ms/step - loss: 0.6451 - accuracy: 0.9366 - val_loss: 0.6260 - val_accuracy: 1.0000\n",
            "Epoch 46/100\n",
            "5/5 [==============================] - 0s 5ms/step - loss: 0.6335 - accuracy: 0.9366 - val_loss: 0.6145 - val_accuracy: 1.0000\n",
            "Epoch 47/100\n",
            "5/5 [==============================] - 0s 5ms/step - loss: 0.6218 - accuracy: 0.9437 - val_loss: 0.6033 - val_accuracy: 1.0000\n",
            "Epoch 48/100\n",
            "5/5 [==============================] - 0s 5ms/step - loss: 0.6100 - accuracy: 0.9437 - val_loss: 0.5921 - val_accuracy: 1.0000\n",
            "Epoch 49/100\n",
            "5/5 [==============================] - 0s 5ms/step - loss: 0.5983 - accuracy: 0.9507 - val_loss: 0.5805 - val_accuracy: 1.0000\n",
            "Epoch 50/100\n",
            "5/5 [==============================] - 0s 5ms/step - loss: 0.5863 - accuracy: 0.9507 - val_loss: 0.5692 - val_accuracy: 1.0000\n",
            "Epoch 51/100\n",
            "5/5 [==============================] - 0s 5ms/step - loss: 0.5743 - accuracy: 0.9507 - val_loss: 0.5577 - val_accuracy: 1.0000\n",
            "Epoch 52/100\n",
            "5/5 [==============================] - 0s 7ms/step - loss: 0.5625 - accuracy: 0.9507 - val_loss: 0.5461 - val_accuracy: 1.0000\n",
            "Epoch 53/100\n",
            "5/5 [==============================] - 0s 5ms/step - loss: 0.5505 - accuracy: 0.9507 - val_loss: 0.5347 - val_accuracy: 1.0000\n",
            "Epoch 54/100\n",
            "5/5 [==============================] - 0s 5ms/step - loss: 0.5386 - accuracy: 0.9507 - val_loss: 0.5232 - val_accuracy: 1.0000\n",
            "Epoch 55/100\n",
            "5/5 [==============================] - 0s 5ms/step - loss: 0.5268 - accuracy: 0.9507 - val_loss: 0.5122 - val_accuracy: 1.0000\n",
            "Epoch 56/100\n",
            "5/5 [==============================] - 0s 5ms/step - loss: 0.5149 - accuracy: 0.9577 - val_loss: 0.5009 - val_accuracy: 1.0000\n",
            "Epoch 57/100\n",
            "5/5 [==============================] - 0s 5ms/step - loss: 0.5031 - accuracy: 0.9577 - val_loss: 0.4896 - val_accuracy: 1.0000\n",
            "Epoch 58/100\n",
            "5/5 [==============================] - 0s 5ms/step - loss: 0.4915 - accuracy: 0.9648 - val_loss: 0.4784 - val_accuracy: 1.0000\n",
            "Epoch 59/100\n",
            "5/5 [==============================] - 0s 6ms/step - loss: 0.4799 - accuracy: 0.9648 - val_loss: 0.4672 - val_accuracy: 1.0000\n",
            "Epoch 60/100\n",
            "5/5 [==============================] - 0s 5ms/step - loss: 0.4684 - accuracy: 0.9648 - val_loss: 0.4568 - val_accuracy: 1.0000\n",
            "Epoch 61/100\n",
            "5/5 [==============================] - 0s 5ms/step - loss: 0.4571 - accuracy: 0.9648 - val_loss: 0.4463 - val_accuracy: 1.0000\n",
            "Epoch 62/100\n",
            "5/5 [==============================] - 0s 5ms/step - loss: 0.4456 - accuracy: 0.9648 - val_loss: 0.4359 - val_accuracy: 1.0000\n",
            "Epoch 63/100\n",
            "5/5 [==============================] - 0s 5ms/step - loss: 0.4344 - accuracy: 0.9718 - val_loss: 0.4255 - val_accuracy: 1.0000\n",
            "Epoch 64/100\n",
            "5/5 [==============================] - 0s 5ms/step - loss: 0.4235 - accuracy: 0.9718 - val_loss: 0.4151 - val_accuracy: 1.0000\n",
            "Epoch 65/100\n",
            "5/5 [==============================] - 0s 5ms/step - loss: 0.4127 - accuracy: 0.9718 - val_loss: 0.4050 - val_accuracy: 1.0000\n",
            "Epoch 66/100\n",
            "5/5 [==============================] - 0s 5ms/step - loss: 0.4019 - accuracy: 0.9718 - val_loss: 0.3945 - val_accuracy: 1.0000\n",
            "Epoch 67/100\n",
            "5/5 [==============================] - 0s 5ms/step - loss: 0.3910 - accuracy: 0.9789 - val_loss: 0.3845 - val_accuracy: 1.0000\n",
            "Epoch 68/100\n",
            "5/5 [==============================] - 0s 5ms/step - loss: 0.3805 - accuracy: 0.9789 - val_loss: 0.3750 - val_accuracy: 1.0000\n",
            "Epoch 69/100\n",
            "5/5 [==============================] - 0s 5ms/step - loss: 0.3703 - accuracy: 0.9789 - val_loss: 0.3655 - val_accuracy: 1.0000\n",
            "Epoch 70/100\n",
            "5/5 [==============================] - 0s 5ms/step - loss: 0.3603 - accuracy: 0.9789 - val_loss: 0.3557 - val_accuracy: 1.0000\n",
            "Epoch 71/100\n",
            "5/5 [==============================] - 0s 6ms/step - loss: 0.3502 - accuracy: 0.9789 - val_loss: 0.3466 - val_accuracy: 1.0000\n",
            "Epoch 72/100\n",
            "5/5 [==============================] - 0s 5ms/step - loss: 0.3406 - accuracy: 0.9859 - val_loss: 0.3373 - val_accuracy: 1.0000\n",
            "Epoch 73/100\n",
            "5/5 [==============================] - 0s 5ms/step - loss: 0.3311 - accuracy: 0.9859 - val_loss: 0.3286 - val_accuracy: 1.0000\n",
            "Epoch 74/100\n",
            "5/5 [==============================] - 0s 5ms/step - loss: 0.3218 - accuracy: 0.9859 - val_loss: 0.3195 - val_accuracy: 1.0000\n",
            "Epoch 75/100\n",
            "5/5 [==============================] - 0s 5ms/step - loss: 0.3127 - accuracy: 0.9859 - val_loss: 0.3109 - val_accuracy: 1.0000\n",
            "Epoch 76/100\n",
            "5/5 [==============================] - 0s 5ms/step - loss: 0.3040 - accuracy: 0.9859 - val_loss: 0.3024 - val_accuracy: 1.0000\n",
            "Epoch 77/100\n",
            "5/5 [==============================] - 0s 5ms/step - loss: 0.2953 - accuracy: 0.9859 - val_loss: 0.2943 - val_accuracy: 1.0000\n",
            "Epoch 78/100\n",
            "5/5 [==============================] - 0s 5ms/step - loss: 0.2870 - accuracy: 0.9859 - val_loss: 0.2864 - val_accuracy: 1.0000\n",
            "Epoch 79/100\n",
            "5/5 [==============================] - 0s 5ms/step - loss: 0.2789 - accuracy: 0.9859 - val_loss: 0.2783 - val_accuracy: 1.0000\n",
            "Epoch 80/100\n",
            "5/5 [==============================] - 0s 5ms/step - loss: 0.2710 - accuracy: 0.9859 - val_loss: 0.2710 - val_accuracy: 1.0000\n",
            "Epoch 81/100\n",
            "5/5 [==============================] - 0s 5ms/step - loss: 0.2634 - accuracy: 0.9859 - val_loss: 0.2641 - val_accuracy: 1.0000\n",
            "Epoch 82/100\n",
            "5/5 [==============================] - 0s 5ms/step - loss: 0.2560 - accuracy: 0.9859 - val_loss: 0.2569 - val_accuracy: 1.0000\n",
            "Epoch 83/100\n",
            "5/5 [==============================] - 0s 5ms/step - loss: 0.2487 - accuracy: 0.9859 - val_loss: 0.2498 - val_accuracy: 1.0000\n",
            "Epoch 84/100\n",
            "5/5 [==============================] - 0s 5ms/step - loss: 0.2419 - accuracy: 0.9859 - val_loss: 0.2432 - val_accuracy: 1.0000\n",
            "Epoch 85/100\n",
            "5/5 [==============================] - 0s 6ms/step - loss: 0.2351 - accuracy: 0.9859 - val_loss: 0.2365 - val_accuracy: 1.0000\n",
            "Epoch 86/100\n",
            "5/5 [==============================] - 0s 5ms/step - loss: 0.2285 - accuracy: 0.9859 - val_loss: 0.2302 - val_accuracy: 1.0000\n",
            "Epoch 87/100\n",
            "5/5 [==============================] - 0s 5ms/step - loss: 0.2222 - accuracy: 0.9859 - val_loss: 0.2241 - val_accuracy: 1.0000\n",
            "Epoch 88/100\n",
            "5/5 [==============================] - 0s 5ms/step - loss: 0.2159 - accuracy: 0.9930 - val_loss: 0.2187 - val_accuracy: 1.0000\n",
            "Epoch 89/100\n",
            "5/5 [==============================] - 0s 5ms/step - loss: 0.2099 - accuracy: 0.9930 - val_loss: 0.2128 - val_accuracy: 1.0000\n",
            "Epoch 90/100\n",
            "5/5 [==============================] - 0s 5ms/step - loss: 0.2043 - accuracy: 0.9930 - val_loss: 0.2073 - val_accuracy: 1.0000\n",
            "Epoch 91/100\n",
            "5/5 [==============================] - 0s 5ms/step - loss: 0.1990 - accuracy: 0.9930 - val_loss: 0.2017 - val_accuracy: 1.0000\n",
            "Epoch 92/100\n",
            "5/5 [==============================] - 0s 6ms/step - loss: 0.1936 - accuracy: 0.9930 - val_loss: 0.1967 - val_accuracy: 1.0000\n",
            "Epoch 93/100\n",
            "5/5 [==============================] - 0s 5ms/step - loss: 0.1883 - accuracy: 0.9930 - val_loss: 0.1913 - val_accuracy: 1.0000\n",
            "Epoch 94/100\n",
            "5/5 [==============================] - 0s 5ms/step - loss: 0.1833 - accuracy: 0.9930 - val_loss: 0.1867 - val_accuracy: 1.0000\n",
            "Epoch 95/100\n",
            "5/5 [==============================] - 0s 5ms/step - loss: 0.1784 - accuracy: 0.9930 - val_loss: 0.1822 - val_accuracy: 1.0000\n",
            "Epoch 96/100\n",
            "5/5 [==============================] - 0s 5ms/step - loss: 0.1740 - accuracy: 0.9930 - val_loss: 0.1778 - val_accuracy: 1.0000\n",
            "Epoch 97/100\n",
            "5/5 [==============================] - 0s 5ms/step - loss: 0.1695 - accuracy: 0.9930 - val_loss: 0.1736 - val_accuracy: 1.0000\n",
            "Epoch 98/100\n",
            "5/5 [==============================] - 0s 5ms/step - loss: 0.1653 - accuracy: 0.9930 - val_loss: 0.1695 - val_accuracy: 1.0000\n",
            "Epoch 99/100\n",
            "5/5 [==============================] - 0s 5ms/step - loss: 0.1610 - accuracy: 0.9930 - val_loss: 0.1657 - val_accuracy: 1.0000\n",
            "Epoch 100/100\n",
            "5/5 [==============================] - 0s 5ms/step - loss: 0.1570 - accuracy: 0.9930 - val_loss: 0.1616 - val_accuracy: 1.0000\n"
          ],
          "name": "stdout"
        }
      ]
    },
    {
      "cell_type": "code",
      "metadata": {
        "id": "z7ay2USGdAUT",
        "outputId": "670a2af4-8fb7-46a3-c9df-d749514326b2",
        "colab": {
          "base_uri": "https://localhost:8080/",
          "height": 50
        }
      },
      "source": [
        "dev_acc = nn.evaluate(x_dev, y_dev)[1]\n",
        "print('The dev accuracy is', dev_acc)"
      ],
      "execution_count": null,
      "outputs": [
        {
          "output_type": "stream",
          "text": [
            "1/1 [==============================] - 0s 2ms/step - loss: 0.1616 - accuracy: 1.0000\n",
            "The dev accuracy is 1.0\n"
          ],
          "name": "stdout"
        }
      ]
    },
    {
      "cell_type": "code",
      "metadata": {
        "id": "QPgCjnCTdYBz",
        "outputId": "eb9d93a6-8ea3-49d8-baec-dcb3e1da6d58",
        "colab": {
          "base_uri": "https://localhost:8080/",
          "height": 899
        }
      },
      "source": [
        "plt.figure(figsize = (10,7))\n",
        "plt.plot(history.history['accuracy'], color = 'yellow')\n",
        "plt.plot(history.history['val_accuracy'], color = 'blue')\n",
        "plt.title('Model accuracy')\n",
        "plt.ylabel('Accuracy')\n",
        "plt.xlabel('Epoch')\n",
        "plt.legend(['Train', 'Validation'], loc='upper left')\n",
        "plt.show()\n",
        "\n",
        "plt.figure(figsize = (10,7))\n",
        "plt.plot(history.history['loss'], color = 'yellow')\n",
        "plt.plot(history.history['val_loss'], color = 'blue')\n",
        "plt.ylim((0,3))\n",
        "plt.title('Model loss')\n",
        "plt.ylabel('Loss')\n",
        "plt.xlabel('Epoch')\n",
        "plt.legend(['Train', 'Validation'], loc='upper left')\n",
        "plt.show()"
      ],
      "execution_count": null,
      "outputs": [
        {
          "output_type": "display_data",
          "data": {
            "image/png": "[encoded data removed]",
            "text/plain": [
              "<Figure size 720x504 with 1 Axes>"
            ]
          },
          "metadata": {
            "tags": [],
            "needs_background": "light"
          }
        },
        {
          "output_type": "display_data",
          "data": {
            "image/png": "[encoded data removed]",
            "text/plain": [
              "<Figure size 720x504 with 1 Axes>"
            ]
          },
          "metadata": {
            "tags": [],
            "needs_background": "light"
          }
        }
      ]
    }
  ]
}